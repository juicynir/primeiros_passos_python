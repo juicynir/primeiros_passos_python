{
  "nbformat": 4,
  "nbformat_minor": 0,
  "metadata": {
    "colab": {
      "provenance": [],
      "toc_visible": true
    },
    "kernelspec": {
      "name": "python3",
      "display_name": "Python 3"
    },
    "language_info": {
      "name": "python"
    }
  },
  "cells": [
    {
      "cell_type": "markdown",
      "source": [
        "# Sobre o notebook\n",
        "\n",
        "A \"hora da prática\" é uma atividade do curso de Python para Data Science da Alura que contém diversos desafios envolvendo os aprendizados de cada aula.\n",
        "\n",
        "O notebook \"hora da pratica\" é um notebook construído com espaço para as células dos desafios propostos no curso, com ele você tem espaço para construir e executar suas soluções"
      ],
      "metadata": {
        "id": "_kwAaQ36gLQ1"
      }
    },
    {
      "cell_type": "markdown",
      "source": [
        "## Aula 1 - Introdução ao Python"
      ],
      "metadata": {
        "id": "Mc-KN0dA0Z83"
      }
    },
    {
      "cell_type": "markdown",
      "source": [
        "### Questão 1\n",
        "\n",
        "Imprima a frase `Escola de Dados da Alura!`"
      ],
      "metadata": {
        "id": "l5eLWf0W0ikn"
      }
    },
    {
      "cell_type": "code",
      "source": [
        "print('Escola de Dados da Alura')"
      ],
      "metadata": {
        "id": "5pllxJ0h0-yA",
        "colab": {
          "base_uri": "https://localhost:8080/"
        },
        "outputId": "c6c02201-7bf2-49d0-ea04-61b73321aa6f"
      },
      "execution_count": null,
      "outputs": [
        {
          "output_type": "stream",
          "name": "stdout",
          "text": [
            "Escola de Dados da Alura\n"
          ]
        }
      ]
    },
    {
      "cell_type": "markdown",
      "source": [
        "### Questão 2\n",
        "Imprima na tela seu nome e seu sobrenome seguindo a estrutura abaixo:\n",
        "```\n",
        "Nome: [seu nome]\n",
        "Sobrenome: [seu sobrenome]\n",
        "```\n"
      ],
      "metadata": {
        "id": "tQdX90Ue03c7"
      }
    },
    {
      "cell_type": "code",
      "source": [
        "print('Nome: Jucenir\\nSobrenome: Serafim')"
      ],
      "metadata": {
        "id": "RVw5iKn20_Ps",
        "colab": {
          "base_uri": "https://localhost:8080/"
        },
        "outputId": "5d956939-a98f-4620-e495-e4f56c45708b"
      },
      "execution_count": null,
      "outputs": [
        {
          "output_type": "stream",
          "name": "stdout",
          "text": [
            "Nome: Jucenir\n",
            "Sobrenome: Serafim\n"
          ]
        }
      ]
    },
    {
      "cell_type": "markdown",
      "source": [
        "### Questão 3\n",
        "Imprima o seu primeiro nome letra a letra. Por exemplo, nome é Mirla, então eu obtenho a seguinte saída:\n",
        "```\n",
        "M\n",
        "I\n",
        "R\n",
        "L\n",
        "A\n",
        "```\n"
      ],
      "metadata": {
        "id": "gfg-aiip03vC"
      }
    },
    {
      "cell_type": "code",
      "source": [
        "print('J\\nU\\nC\\nE\\nN\\nI\\nR')"
      ],
      "metadata": {
        "id": "v5bkrgf60_qx",
        "colab": {
          "base_uri": "https://localhost:8080/"
        },
        "outputId": "a4327e2a-703a-41bc-91aa-867b4f8c6a60"
      },
      "execution_count": null,
      "outputs": [
        {
          "output_type": "stream",
          "name": "stdout",
          "text": [
            "J\n",
            "U\n",
            "C\n",
            "E\n",
            "N\n",
            "I\n",
            "R\n"
          ]
        }
      ]
    },
    {
      "cell_type": "markdown",
      "source": [
        "### Questão 4\n",
        "Imprima o dia do seu nascimento em formato `dia mês ano`. Os valores de dia e ano não podem estar entre aspas. O formato deve estar como no exemplo, supondo uma data de aniversário dia 28 de fevereiro de 2003:\n",
        "```\n",
        "28 fevereiro 2003\n",
        "```"
      ],
      "metadata": {
        "id": "oadrJbl704MM"
      }
    },
    {
      "cell_type": "code",
      "source": [
        "dia = 3\n",
        "mes = 'junho'\n",
        "ano = 1985\n",
        "\n",
        "print(f'{dia} {mes} {ano} ')"
      ],
      "metadata": {
        "id": "cx0KSsrq1ALD",
        "colab": {
          "base_uri": "https://localhost:8080/"
        },
        "outputId": "6143b478-fdcf-4ec5-a9af-207b425c3840"
      },
      "execution_count": null,
      "outputs": [
        {
          "output_type": "stream",
          "name": "stdout",
          "text": [
            "3 junho 1985 \n"
          ]
        }
      ]
    },
    {
      "cell_type": "markdown",
      "source": [
        "### Questão 5\n",
        "Imprima em um único print o atual ano que você está fazendo esse curso, o valor do ano deve ser um dado numérico. A saída do print deve ser a seguinte:\n",
        "```\n",
        "Ano atual: [ano]\n",
        "```\n"
      ],
      "metadata": {
        "id": "3RgyMaan04TD"
      }
    },
    {
      "cell_type": "code",
      "execution_count": null,
      "metadata": {
        "id": "UN77EfQ2d36Y",
        "colab": {
          "base_uri": "https://localhost:8080/"
        },
        "outputId": "d9001a09-d296-4243-83b1-b04ab4995988"
      },
      "outputs": [
        {
          "output_type": "stream",
          "name": "stdout",
          "text": [
            "Ano atual: 2023 \n"
          ]
        },
        {
          "output_type": "execute_result",
          "data": {
            "text/plain": [
              "int"
            ]
          },
          "metadata": {},
          "execution_count": 9
        }
      ],
      "source": [
        "anoAtual = 2023\n",
        "\n",
        "print(f'Ano atual: {anoAtual} ')\n",
        "\n",
        "type(anoAtual)"
      ]
    },
    {
      "cell_type": "markdown",
      "source": [
        "## Aula 2 - Manipulando dados no Python"
      ],
      "metadata": {
        "id": "D9e3FqhO1S3X"
      }
    },
    {
      "cell_type": "markdown",
      "source": [
        "### Coleta e amostragem de dados"
      ],
      "metadata": {
        "id": "n6o7C1Ze2cRe"
      }
    },
    {
      "cell_type": "markdown",
      "source": [
        "#### Questão 1\n",
        "Crie um programa que solicite à pessoa usuária digitar seu nome, e imprima “Olá, [nome]!”."
      ],
      "metadata": {
        "id": "sRneWag9PV5Q"
      }
    },
    {
      "cell_type": "code",
      "source": [
        "nome = input('Digite seu nome:\\n')\n",
        "print(f'Olá {nome}!')"
      ],
      "metadata": {
        "id": "dbX1fKqy2HnE",
        "colab": {
          "base_uri": "https://localhost:8080/"
        },
        "outputId": "7976ada4-1a0c-4277-8874-6b5d19660bd8"
      },
      "execution_count": null,
      "outputs": [
        {
          "output_type": "stream",
          "name": "stdout",
          "text": [
            "Digite seu nome:\n",
            "Pedro\n",
            "Olá Pedro!\n"
          ]
        }
      ]
    },
    {
      "cell_type": "markdown",
      "source": [
        "#### Questão 2\n",
        "Crie um programa que solicite à pessoa usuária digitar seu nome e idade, e imprima “Olá, [nome], você tem [idade] anos.”."
      ],
      "metadata": {
        "id": "BJ1SznEp70d5"
      }
    },
    {
      "cell_type": "code",
      "source": [
        "nome = input('Digite seu nome:\\n')\n",
        "idade = int(input('Digite sua idade:\\n'))\n",
        "\n",
        "\n",
        "print(f'Olá, {nome}, você tem {idade}!')"
      ],
      "metadata": {
        "id": "jKz-0Sq8PFkp",
        "colab": {
          "base_uri": "https://localhost:8080/"
        },
        "outputId": "e74364ad-4175-4fcd-b9a4-ae361e4de2e7"
      },
      "execution_count": null,
      "outputs": [
        {
          "output_type": "stream",
          "name": "stdout",
          "text": [
            "Digite seu nome:\n",
            "Juce\n",
            "Digite sua idade:\n",
            "38\n",
            "Olá, Juce, você tem 38!\n"
          ]
        }
      ]
    },
    {
      "cell_type": "markdown",
      "source": [
        "#### Questão 3\n",
        "Crie um programa que solicite à pessoa usuária digitar seu nome, idade e altura em metros, e imprima “Olá, [nome], você tem [idade] anos e mede [altura] metros!”."
      ],
      "metadata": {
        "id": "2T0jNYZt70aa"
      }
    },
    {
      "cell_type": "code",
      "source": [
        "nome = input('Digite seu nome:\\n')\n",
        "idade = int(input('Digite sua idade:\\n'))\n",
        "altura= float(input('Digite sua altura em metros\\n'))\n",
        "\n",
        "print(f'Olá, {nome}, você tem {idade} e mede {altura} metros!')"
      ],
      "metadata": {
        "id": "pI4kHNzTPIXh",
        "colab": {
          "base_uri": "https://localhost:8080/"
        },
        "outputId": "c38f6196-f1c3-4468-8c97-e31f1fd968a0"
      },
      "execution_count": null,
      "outputs": [
        {
          "output_type": "stream",
          "name": "stdout",
          "text": [
            "Digite seu nome:\n",
            "Ju\n",
            "Digite sua idade:\n",
            "35\n",
            "Digite sua altura em metros\n",
            "1.85\n",
            "Olá, Ju, você tem 35 e mede 1.85 metros!\n"
          ]
        }
      ]
    },
    {
      "cell_type": "markdown",
      "source": [
        "### Calculadora com operadores"
      ],
      "metadata": {
        "id": "mEBFwKkC70KP"
      }
    },
    {
      "cell_type": "markdown",
      "source": [
        "#### Questão 1\n",
        "\n",
        "Crie um programa que solicite dois valores numéricos à pessoa usuária e imprima a soma dos dois valores."
      ],
      "metadata": {
        "id": "H-IV1oAPPSqK"
      }
    },
    {
      "cell_type": "code",
      "source": [
        "v1=int(input('Insira um valor:\\n'))\n",
        "v2=int(input('Insira outro valor:\\n'))\n",
        "\n",
        "soma=v1+v2\n",
        "\n",
        "print(f'{v1}+{v2} é igual a {soma}')"
      ],
      "metadata": {
        "id": "Zb0W84sy8rnp",
        "colab": {
          "base_uri": "https://localhost:8080/"
        },
        "outputId": "30f4df93-d7d2-4391-940c-3a379d9a7448"
      },
      "execution_count": null,
      "outputs": [
        {
          "output_type": "stream",
          "name": "stdout",
          "text": [
            "Insira um valor:\n",
            "5\n",
            "Insira outro valor:\n",
            "7\n",
            "5+7 é igual a 12\n"
          ]
        }
      ]
    },
    {
      "cell_type": "markdown",
      "source": [
        "#### Questão 2\n",
        "Crie um programa que solicite três valores numéricos à pessoa usuária e imprima a soma dos três valores."
      ],
      "metadata": {
        "id": "LUoi2MOu70Em"
      }
    },
    {
      "cell_type": "code",
      "source": [
        "v1=int(input('Insira um valor:\\n'))\n",
        "v2=int(input('Insira outro valor:\\n'))\n",
        "v3=int(input('Insira mais outro valor:\\n'))\n",
        "soma=v1+v2+v3\n",
        "\n",
        "print(f'{v1} + {v2} + {v3} é igual a {soma}')"
      ],
      "metadata": {
        "id": "4FYjWyBS8rDm",
        "colab": {
          "base_uri": "https://localhost:8080/"
        },
        "outputId": "90bde358-68ee-42c0-d335-ecb4f67141ee"
      },
      "execution_count": null,
      "outputs": [
        {
          "output_type": "stream",
          "name": "stdout",
          "text": [
            "Insira um valor:\n",
            "45\n",
            "Insira outro valor:\n",
            "45\n",
            "Insira mais outro valor:\n",
            "78\n",
            "45 + 45 + 78 é igual a 168\n"
          ]
        }
      ]
    },
    {
      "cell_type": "markdown",
      "source": [
        "#### Questão 3\n",
        "Crie um programa que solicite dois valores numéricos à pessoa usuária e imprima a subtração do primeiro pelo o segundo valor."
      ],
      "metadata": {
        "id": "lezGctF07z8i"
      }
    },
    {
      "cell_type": "code",
      "source": [
        "v1=int(input('Insira um valor:\\n'))\n",
        "v2=int(input('Insira outro valor:\\n'))\n",
        "\n",
        "sub=v1-v2\n",
        "\n",
        "print(f'{v1} - {v2} é igual a {sub}')"
      ],
      "metadata": {
        "id": "k0GE1z4w8p3J",
        "colab": {
          "base_uri": "https://localhost:8080/"
        },
        "outputId": "a1ae5c32-505f-4018-eaad-842622896e7d"
      },
      "execution_count": null,
      "outputs": [
        {
          "output_type": "stream",
          "name": "stdout",
          "text": [
            "Insira um valor:\n",
            "5\n",
            "Insira outro valor:\n",
            "4\n",
            "5 - 4 é igual a 1\n"
          ]
        }
      ]
    },
    {
      "cell_type": "markdown",
      "source": [
        "#### Questão 4\n",
        "\n",
        "Crie um programa que solicite dois valores numéricos à pessoa usuária e imprima a multiplicação dos dois valores.\n"
      ],
      "metadata": {
        "id": "wwMP-dPU7zxW"
      }
    },
    {
      "cell_type": "code",
      "source": [
        "v1=int(input('Insira um valor:\\n'))\n",
        "v2=int(input('Insira outro valor:\\n'))\n",
        "\n",
        "prod=v1 * v2\n",
        "\n",
        "print(f'{v1} * {v2} é igual a {prod}')"
      ],
      "metadata": {
        "id": "GzFCVHfp8peZ",
        "colab": {
          "base_uri": "https://localhost:8080/"
        },
        "outputId": "1ee11b5a-7497-4cd9-ea20-0772842d42d7"
      },
      "execution_count": null,
      "outputs": [
        {
          "output_type": "stream",
          "name": "stdout",
          "text": [
            "Insira um valor:\n",
            "5\n",
            "Insira outro valor:\n",
            "4\n",
            "5 * 4 é igual a 20\n"
          ]
        }
      ]
    },
    {
      "cell_type": "markdown",
      "source": [
        "#### Questão 5\n",
        "\n",
        "Crie um programa que solicite dois valores numéricos, um numerador e um denominador, e realize a divisão entre os dois valores. Deixe claro que o valor do denominador não pode ser `0`.\n"
      ],
      "metadata": {
        "id": "9kxyHxUo7zRD"
      }
    },
    {
      "cell_type": "code",
      "source": [
        "v1=int(input('Insira um valor para o numerador:\\n'))\n",
        "v2=int(input('Insira um valor maior que zero para o denominador:\\n'))\n",
        "\n",
        "divi=v1 / v2\n",
        "\n",
        "print(f'{v1} / {v2} é igual a {divi}')"
      ],
      "metadata": {
        "id": "ytJ8l5KH8ozc",
        "colab": {
          "base_uri": "https://localhost:8080/"
        },
        "outputId": "6ae618b9-6eb6-401c-9979-c6f566c032a0"
      },
      "execution_count": null,
      "outputs": [
        {
          "output_type": "stream",
          "name": "stdout",
          "text": [
            "Insira um valor para o numerador:\n",
            "2\n",
            "Insira um valor maior que zero para o denominador:\n",
            "2\n",
            "2 / 2 é igual a 1.0\n"
          ]
        }
      ]
    },
    {
      "cell_type": "markdown",
      "source": [
        "#### Questão 6\n",
        "\n",
        "Crie um programa que solicite dois valores numéricos, um operador e uma potência, e realize a exponenciação entre esses dois valores.\n"
      ],
      "metadata": {
        "id": "zkUSBTQq8Hxt"
      }
    },
    {
      "cell_type": "code",
      "source": [
        "v1=int(input('Insira um valor para o operador:\\n'))\n",
        "v2=int(input('Insira um valor para a potência:\\n'))\n",
        "\n",
        "exponen=v1 ** v2\n",
        "\n",
        "print(f'{v1} ** {v2} é igual a {exponen}')"
      ],
      "metadata": {
        "id": "RPj36jq08oZp",
        "colab": {
          "base_uri": "https://localhost:8080/"
        },
        "outputId": "4fb1ecc4-6f89-4c10-f682-8146f80e77cd"
      },
      "execution_count": null,
      "outputs": [
        {
          "output_type": "stream",
          "name": "stdout",
          "text": [
            "Insira um valor para o operador:\n",
            "3\n",
            "Insira um valor para a potência:\n",
            "3\n",
            "3 ** 3 é igual a 27\n"
          ]
        }
      ]
    },
    {
      "cell_type": "markdown",
      "source": [
        "#### Questão 7\n",
        "Crie um programa que solicite dois valores numéricos, um numerador e um denominador e realize a divisão inteira entre os dois valores. Deixe claro que o valor do denominador não pode ser `0`."
      ],
      "metadata": {
        "id": "yiunIusZ8Huj"
      }
    },
    {
      "cell_type": "code",
      "source": [
        "v1=int(input('Insira um valor para o numerador:\\n'))\n",
        "v2=int(input('Insira um valor maior que zero para o denominador:\\n'))\n",
        "\n",
        "divi=v1 // v2\n",
        "\n",
        "print(f'{v1} // {v2} é igual a {divi}')"
      ],
      "metadata": {
        "id": "UHK8xITf8oCg",
        "colab": {
          "base_uri": "https://localhost:8080/"
        },
        "outputId": "6a03e666-bfe1-4a80-a962-64ca5057b327"
      },
      "execution_count": null,
      "outputs": [
        {
          "output_type": "stream",
          "name": "stdout",
          "text": [
            "Insira um valor para o numerador:\n",
            "20\n",
            "Insira um valor maior que zero para o denominador:\n",
            "3\n",
            "20 // 3 é igual a 6\n"
          ]
        }
      ]
    },
    {
      "cell_type": "markdown",
      "source": [
        "#### Questão 8\n",
        "\n",
        "Crie um programa que solicite dois valores numéricos, um numerador e um denominador, e retorne o resto da divisão entre os dois valores. Deixe claro que o valor do denominador não pode ser `0`."
      ],
      "metadata": {
        "id": "z_D_JiLX8Hra"
      }
    },
    {
      "cell_type": "code",
      "source": [
        "v1=int(input('Insira um valor para o numerador:\\n'))\n",
        "v2=int(input('Insira um valor maior que zero para o denominador:\\n'))\n",
        "\n",
        "divi=v1 % v2\n",
        "\n",
        "print(f'O resto da divisão de {v1} / {v2} é igual a {divi}')"
      ],
      "metadata": {
        "id": "EWGJeukO8nqx",
        "colab": {
          "base_uri": "https://localhost:8080/"
        },
        "outputId": "3b27959b-5bf7-4ae4-a0f6-1ca96e37f84d"
      },
      "execution_count": null,
      "outputs": [
        {
          "output_type": "stream",
          "name": "stdout",
          "text": [
            "Insira um valor para o numerador:\n",
            "5\n",
            "Insira um valor maior que zero para o denominador:\n",
            "2\n",
            "O resto da divisão de 5 / 2 é igual a 1\n"
          ]
        }
      ]
    },
    {
      "cell_type": "markdown",
      "source": [
        "#### Questão 9\n",
        "\n",
        "Crie um código que solicita 3 notas de um estudante e imprima a média das notas."
      ],
      "metadata": {
        "id": "RDRajNkU8N8N"
      }
    },
    {
      "cell_type": "code",
      "source": [
        "n1=int(input('Insira a primeira nota do trimestre:\\n'))\n",
        "n2=int(input('Insira a segunda nota do trimestre:\\n'))\n",
        "n3=int(input('Insira a terceira nota do trimestre:\\n'))\n",
        "\n",
        "media = (n1+n2+n3)/3\n",
        "\n",
        "print(f'Sua média neste trimestre é {media}')\n"
      ],
      "metadata": {
        "id": "H6F4Ojzt8nSR",
        "colab": {
          "base_uri": "https://localhost:8080/"
        },
        "outputId": "e0eaefcd-2a70-4f28-ea84-2573d45d14be"
      },
      "execution_count": null,
      "outputs": [
        {
          "output_type": "stream",
          "name": "stdout",
          "text": [
            "Insira a primeira nota do trimestre:\n",
            "70\n",
            "Insira a segunda nota do trimestre:\n",
            "80\n",
            "Insira a terceira nota do trimestre:\n",
            "90\n",
            "Sua média neste trimestre é 80.0\n"
          ]
        }
      ]
    },
    {
      "cell_type": "markdown",
      "source": [
        "#### Questão 10\n",
        "\n",
        "Crie um código que calcule e imprima a média ponderada dos números 5, 12, 20 e 15 com pesos respectivamente iguais a 1, 2, 3 e 4."
      ],
      "metadata": {
        "id": "d7fjkne58N21"
      }
    },
    {
      "cell_type": "code",
      "source": [
        "n1=5\n",
        "n2=12\n",
        "n3=20\n",
        "n4=15\n",
        "\n",
        "p1=1\n",
        "p2=2\n",
        "p3=3\n",
        "p4=4\n",
        "\n",
        "media_ponderada=((n1*p1)+(n2*p2)+(n3*p3)+(n4*p4))/(p1+p2+p3+p4)\n",
        "\n",
        "print(media_ponderada)"
      ],
      "metadata": {
        "id": "fwjoHlV48mkv",
        "colab": {
          "base_uri": "https://localhost:8080/"
        },
        "outputId": "b2272332-148a-41bc-f660-b81a33be70a6"
      },
      "execution_count": null,
      "outputs": [
        {
          "output_type": "stream",
          "name": "stdout",
          "text": [
            "14.9\n"
          ]
        }
      ]
    },
    {
      "cell_type": "markdown",
      "source": [
        "### Editando textos"
      ],
      "metadata": {
        "id": "GNmbX1OU8N0V"
      }
    },
    {
      "cell_type": "markdown",
      "source": [
        "#### Questão 1\n",
        "\n",
        "Crie uma variável chamada “`frase`” e atribua a ela uma string de sua escolha. Em seguida, imprima a frase na tela."
      ],
      "metadata": {
        "id": "6wZ85mCsRCV0"
      }
    },
    {
      "cell_type": "code",
      "source": [
        "frase='keep on fighting'\n",
        "print(frase)"
      ],
      "metadata": {
        "id": "eRqr_gh-8mFy",
        "colab": {
          "base_uri": "https://localhost:8080/"
        },
        "outputId": "f5835c05-28d1-4ad2-c8b1-ce41840b0b1b"
      },
      "execution_count": null,
      "outputs": [
        {
          "output_type": "stream",
          "name": "stdout",
          "text": [
            "keep on fighting\n"
          ]
        }
      ]
    },
    {
      "cell_type": "markdown",
      "source": [
        "#### Questão 2\n",
        "Crie um código que solicite uma frase e depois imprima a frase na tela."
      ],
      "metadata": {
        "id": "Aac17z-18Nwv"
      }
    },
    {
      "cell_type": "code",
      "source": [
        "frase1=input('Escreva uma frase:\\n')\n",
        "print(frase1)"
      ],
      "metadata": {
        "id": "8zfE2hh98lb0",
        "colab": {
          "base_uri": "https://localhost:8080/"
        },
        "outputId": "0b4cd8c0-24c5-43cd-8e00-ac4555e24f69"
      },
      "execution_count": null,
      "outputs": [
        {
          "output_type": "stream",
          "name": "stdout",
          "text": [
            "Escreva uma frase:\n",
            "The future is bright\n",
            "The future is bright\n"
          ]
        }
      ]
    },
    {
      "cell_type": "markdown",
      "source": [
        "#### Questão 3\n",
        "\n",
        "Crie um código que solicite uma frase à pessoa usuária e imprima a mesma frase digitada mas com todas as letras maiúsculas."
      ],
      "metadata": {
        "id": "DXVzqpN58Ntr"
      }
    },
    {
      "cell_type": "code",
      "source": [
        "texto = input('Escreva uma frase:\\n')\n",
        "capital_txt= texto.upper()\n",
        "print(capital_txt)"
      ],
      "metadata": {
        "id": "d0VzoYP68k-I",
        "colab": {
          "base_uri": "https://localhost:8080/"
        },
        "outputId": "20a176ef-728c-43c2-e5d7-a8f9192ebf86"
      },
      "execution_count": null,
      "outputs": [
        {
          "output_type": "stream",
          "name": "stdout",
          "text": [
            "Escreva uma frase:\n",
            "stronger than yesterday\n",
            "STRONGER THAN YESTERDAY\n"
          ]
        }
      ]
    },
    {
      "cell_type": "markdown",
      "source": [
        "#### Questão 4\n",
        "\n",
        "Crie um código que solicite uma frase à pessoa usuária e imprima a mesma frase digitada mas com todas as letras minúsculas."
      ],
      "metadata": {
        "id": "I12VeNPK8Nqb"
      }
    },
    {
      "cell_type": "code",
      "source": [
        "texto = input('Escreva uma frase:\\n')\n",
        "low_txt= texto.lower()\n",
        "print(low_txt)"
      ],
      "metadata": {
        "id": "KD8rNy2K8kox",
        "colab": {
          "base_uri": "https://localhost:8080/"
        },
        "outputId": "58b982eb-fd57-412d-febc-efcf0e4d7433"
      },
      "execution_count": null,
      "outputs": [
        {
          "output_type": "stream",
          "name": "stdout",
          "text": [
            "Escreva uma frase:\n",
            "BELIVE!\n",
            "belive!\n"
          ]
        }
      ]
    },
    {
      "cell_type": "markdown",
      "source": [
        "#### Questão 5\n",
        "\n",
        "Crie uma variável chamada “`frase`” e atribua a ela uma string de sua escolha. Em seguida, imprima a frase sem espaços em branco no início e no fim."
      ],
      "metadata": {
        "id": "cRqngSE48Nog"
      }
    },
    {
      "cell_type": "code",
      "source": [
        "frase= input('Escreva uma frase:\\n')\n",
        "no_space= frase.strip()\n",
        "print(no_space)"
      ],
      "metadata": {
        "id": "aSCpdF-o8kBs",
        "colab": {
          "base_uri": "https://localhost:8080/"
        },
        "outputId": "cf3fd7e3-9aa2-4438-f430-824ccce4760e"
      },
      "execution_count": null,
      "outputs": [
        {
          "output_type": "stream",
          "name": "stdout",
          "text": [
            "Escreva uma frase:\n",
            "        just do it!      \n",
            "just do it!\n"
          ]
        }
      ]
    },
    {
      "cell_type": "markdown",
      "source": [
        "#### Questão 6\n",
        "\n",
        "Crie um código que solicite uma frase à pessoa usuária e imprima a mesma frase sem espaços em branco no início e no fim."
      ],
      "metadata": {
        "id": "murIazpQ8Nkv"
      }
    },
    {
      "cell_type": "code",
      "source": [
        "frase= input('Escreva uma frase:\\n')\n",
        "no_space= frase.strip()\n",
        "print(no_space)"
      ],
      "metadata": {
        "id": "tHunjwuG8jNq",
        "colab": {
          "base_uri": "https://localhost:8080/"
        },
        "outputId": "3ab270de-7be1-4540-f54f-f7abf948df8a"
      },
      "execution_count": null,
      "outputs": [
        {
          "output_type": "stream",
          "name": "stdout",
          "text": [
            "Escreva uma frase:\n",
            "          gurl, really?    \n",
            "gurl, really?\n"
          ]
        }
      ]
    },
    {
      "cell_type": "markdown",
      "source": [
        "#### Questão 7\n",
        "\n",
        "\n",
        "Crie um código que solicite uma frase à pessoa usuária e imprima a mesma frase sem espaços em branco no início e no fim e em letras minúsculas."
      ],
      "metadata": {
        "id": "eRxc2OeX8Nh2"
      }
    },
    {
      "cell_type": "code",
      "source": [
        "frase= input('Escreva uma frase:\\n')\n",
        "no_space= frase.strip()\n",
        "capital=no_space.upper()\n",
        "print(capital)"
      ],
      "metadata": {
        "id": "DYm0_UwS8ih6",
        "colab": {
          "base_uri": "https://localhost:8080/"
        },
        "outputId": "29708312-6b53-46e2-be78-b9248eaae4d3"
      },
      "execution_count": null,
      "outputs": [
        {
          "output_type": "stream",
          "name": "stdout",
          "text": [
            "Escreva uma frase:\n",
            "      let's try it!    \n",
            "LET'S TRY IT!\n"
          ]
        }
      ]
    },
    {
      "cell_type": "markdown",
      "source": [
        "#### Questão 8\n",
        "\n",
        "Crie um código que solicite uma frase à pessoa usuária e imprima a mesma frase com todas as vogais “`e`” trocadas pela letra “`f`”."
      ],
      "metadata": {
        "id": "UKATLavs8NfI"
      }
    },
    {
      "cell_type": "code",
      "source": [
        "frase = input('Escreva uma frase:\\n')\n",
        "sem_e = frase.replace('e', 'f')\n",
        "print(sem_e)"
      ],
      "metadata": {
        "id": "k64C5G5S8iLO",
        "colab": {
          "base_uri": "https://localhost:8080/"
        },
        "outputId": "2a0179f0-8ae9-4efa-b00d-b24df48dce31"
      },
      "execution_count": null,
      "outputs": [
        {
          "output_type": "stream",
          "name": "stdout",
          "text": [
            "Escreva uma frase:\n",
            "elefante elevado\n",
            "flffantf flfvado\n"
          ]
        }
      ]
    },
    {
      "cell_type": "markdown",
      "source": [
        "#### Questão 9\n",
        "\n",
        "\n",
        "Crie um código que solicite uma frase à pessoa usuária e imprima a mesma frase com todas as vogais “`a`” trocadas pela caractere  “`@`”."
      ],
      "metadata": {
        "id": "n_1SPchw8NdG"
      }
    },
    {
      "cell_type": "code",
      "source": [
        "frase = input('Escreva uma frase:\\n')\n",
        "frase = frase.replace('a', '@')\n",
        "print(frase)"
      ],
      "metadata": {
        "id": "msaDNm_p8h0D",
        "colab": {
          "base_uri": "https://localhost:8080/"
        },
        "outputId": "f6096808-f726-446d-e046-62ef53c4b2a4"
      },
      "execution_count": null,
      "outputs": [
        {
          "output_type": "stream",
          "name": "stdout",
          "text": [
            "Escreva uma frase:\n",
            "alada amanda\n",
            "@l@d@ @m@nd@\n"
          ]
        }
      ]
    },
    {
      "cell_type": "markdown",
      "source": [
        "#### Questão 10\n",
        "\n",
        "\n",
        "Crie um código que solicite uma frase à pessoa usuária e imprima a mesma frase com todas as consoantes “`s`” trocadas pelo caractere  “`$`”."
      ],
      "metadata": {
        "id": "H3sTTjqI8Naa"
      }
    },
    {
      "cell_type": "code",
      "source": [
        "frase = input('Escreva uma frase:\\n')\n",
        "frase = frase.replace('s', '$')\n",
        "print(frase)"
      ],
      "metadata": {
        "id": "RPBIsWT68e-1",
        "colab": {
          "base_uri": "https://localhost:8080/"
        },
        "outputId": "afa6c5c5-f5d4-45ba-8872-1cc465c9e988"
      },
      "execution_count": null,
      "outputs": [
        {
          "output_type": "stream",
          "name": "stdout",
          "text": [
            "Escreva uma frase:\n",
            "salário secundário\n",
            "$alário $ecundário\n"
          ]
        }
      ]
    },
    {
      "cell_type": "markdown",
      "source": [
        "## Aula 3 - Estruturas condicionais"
      ],
      "metadata": {
        "id": "XGePe4GD2I59"
      }
    },
    {
      "cell_type": "markdown",
      "source": [
        "### Aquecendo na programação"
      ],
      "metadata": {
        "id": "Pr9HTW0UHCdD"
      }
    },
    {
      "cell_type": "markdown",
      "source": [
        "#### Questão 1\n",
        "Escreva um programa que peça à pessoa usuária para fornecer dois números e exibir o número maior."
      ],
      "metadata": {
        "id": "xBZHqhVg80Fy"
      }
    },
    {
      "cell_type": "code",
      "source": [
        "v1=int(input('Insira um número\\n'))\n",
        "v2=int(input('Insira outro número:\\n'))\n",
        "\n",
        "if v1>v2:\n",
        "  print(f'{v1} é o número maior')\n",
        "else:\n",
        "  print(f'{v2} é o número maior')"
      ],
      "metadata": {
        "id": "GJlGnzjc-xyF",
        "colab": {
          "base_uri": "https://localhost:8080/"
        },
        "outputId": "be8b0b7d-39a3-4518-9763-aab40973e9cf"
      },
      "execution_count": null,
      "outputs": [
        {
          "output_type": "stream",
          "name": "stdout",
          "text": [
            "Insira um número\n",
            "15\n",
            "Insira outro número:\n",
            "20\n",
            "20 é o número maior\n"
          ]
        }
      ]
    },
    {
      "cell_type": "markdown",
      "source": [
        "#### Questão 2\n",
        "Escreva um programa que solicite o percentual de crescimento de produção de uma empresa e informe se houve um crescimento (porcentagem positiva) ou decrescimento (porcentagem negativa)."
      ],
      "metadata": {
        "id": "H4sgN7dyHNJF"
      }
    },
    {
      "cell_type": "code",
      "source": [
        "growth = int(input('Insira em número o crescimento da empresa esse mês:\\n'))\n",
        "if growth>0:\n",
        "  print('porcentagem positiva')\n",
        "else:\n",
        "  print('porcentagem negativa')"
      ],
      "metadata": {
        "id": "-2_Ry5XJ-yZW",
        "colab": {
          "base_uri": "https://localhost:8080/"
        },
        "outputId": "dd3c403b-d4f4-42c4-9cd4-397353729c14"
      },
      "execution_count": null,
      "outputs": [
        {
          "output_type": "stream",
          "name": "stdout",
          "text": [
            "Insira em número o crescimento da empresa esse mês:\n",
            "20\n",
            "porcentagem positiva\n"
          ]
        }
      ]
    },
    {
      "cell_type": "markdown",
      "source": [
        "#### Questão 3\n",
        "Escreva um programa que determine se uma letra fornecida pela pessoa usuária é uma vogal ou consoante."
      ],
      "metadata": {
        "id": "a_mzNOBDHNny"
      }
    },
    {
      "cell_type": "code",
      "source": [
        "print('Vogal ou Consoante')\n",
        "letter=input('Insira uma letra, o programa dirá se é vogal ou consoante:\\n')\n",
        "vowels=['a','e','i','o','u','A','E','I','O','U' ]\n",
        "\n",
        "if letter in vowels:\n",
        "  print(f'A letra {letter} é uma vogal')\n",
        "else:\n",
        "  print(f'A letra {letter} é uma consoante')"
      ],
      "metadata": {
        "id": "NbgndVyg-zFJ",
        "colab": {
          "base_uri": "https://localhost:8080/"
        },
        "outputId": "fc30f94c-c05c-4813-e496-1cfa5d4ba84e"
      },
      "execution_count": null,
      "outputs": [
        {
          "output_type": "stream",
          "name": "stdout",
          "text": [
            "Vogal ou Consoante\n",
            "Insira uma letra, o programa dirá se é vogal ou consoante:\n",
            "B\n",
            "A letra B é uma consoante\n"
          ]
        }
      ]
    },
    {
      "cell_type": "markdown",
      "source": [
        "#### Questão 4\n",
        "Escreva um programa que leia valores médios de preços de um modelo de carro por 3 anos consecutivos e exiba o valor mais alto e mais baixo entre esses três anos."
      ],
      "metadata": {
        "id": "mofMRjSZHP99"
      }
    },
    {
      "cell_type": "code",
      "source": [
        "car_prices = [80000, 75000, 70000, 68000, 72000, 78000, 76000, 65000, 70000, 75000,\n",
        "              82000, 90000, 68000, 72000, 75000, 82000, 77000, 71000, 69000, 73000, 74000, 78000, 81000, 75000, 82000,\n",
        "              83000, 85000, 88000, 92000, 96000, 69000, 71000, 68000, 72000, 75000, 79000]\n",
        "\n",
        "car_max=max(car_prices)\n",
        "car_min=min(car_prices)\n",
        "\n",
        "print(f'Preço mais alto é de {car_max}\\nPreço mais baixo é de {car_min}')"
      ],
      "metadata": {
        "id": "TX--d3k9-02c",
        "colab": {
          "base_uri": "https://localhost:8080/"
        },
        "outputId": "901c9661-8db2-4ebe-d16c-bfb3e05b433f"
      },
      "execution_count": null,
      "outputs": [
        {
          "output_type": "stream",
          "name": "stdout",
          "text": [
            "Preço mais alto é de 96000\n",
            "Preço mais baixo é de 65000\n"
          ]
        }
      ]
    },
    {
      "cell_type": "markdown",
      "source": [
        "#### Questão 5\n",
        "Escreva um programa que pergunte sobre o preço de três produtos e indique qual é o produto mais barato para comprar."
      ],
      "metadata": {
        "id": "jY5tIwd-HQzc"
      }
    },
    {
      "cell_type": "code",
      "source": [
        "produtos=[]\n",
        "prod1=float(input('Insira o preço do produto 1:\\n'))\n",
        "produtos.append(prod1)\n",
        "prod2=float(input('Insira o preço do produto 2:\\n'))\n",
        "produtos.append(prod2)\n",
        "prod3=float(input('Insira o preço do produto 3:\\n'))\n",
        "produtos.append(prod3)\n",
        "\n",
        "prod_cheap=min(produtos)\n",
        "\n",
        "print(f'Produto mais barato custa R$ {prod_cheap:.2f}')"
      ],
      "metadata": {
        "id": "sYqNh9df-0gk",
        "colab": {
          "base_uri": "https://localhost:8080/"
        },
        "outputId": "ea198e5d-51cd-40f2-c3d4-74ee533dc071"
      },
      "execution_count": null,
      "outputs": [
        {
          "output_type": "stream",
          "name": "stdout",
          "text": [
            "Insira o preço do produto 1:\n",
            "25.47\n",
            "Insira o preço do produto 2:\n",
            "45.80\n",
            "Insira o preço do produto 3:\n",
            "25.41\n",
            "Produto mais barato custa R$ 25.41\n"
          ]
        }
      ]
    },
    {
      "cell_type": "markdown",
      "source": [
        "#### Questão 6\n",
        "Escreva um programa que leia três números e os exiba em ordem decrescente."
      ],
      "metadata": {
        "id": "1r6aVxtTHR4E"
      }
    },
    {
      "cell_type": "code",
      "source": [
        "number=[]\n",
        "num1=int(input('Insira um número inteiro:\\n'))\n",
        "number.append(num1)\n",
        "num2=int(input('Insira outro número inteiro:\\n'))\n",
        "number.append(num2)\n",
        "num3=int(input('Insira mais um número inteiro:\\n'))\n",
        "number.append(num3)\n",
        "\n",
        "number.sort()\n",
        "\n",
        "print(number)"
      ],
      "metadata": {
        "id": "ydOCYUMO-0Hk",
        "colab": {
          "base_uri": "https://localhost:8080/"
        },
        "outputId": "9965453b-03fe-4252-807f-7858cdc2eac9"
      },
      "execution_count": null,
      "outputs": [
        {
          "output_type": "stream",
          "name": "stdout",
          "text": [
            "Insira um número inteiro:\n",
            "50\n",
            "Insira outro número inteiro:\n",
            "30\n",
            "Insira mais um número inteiro:\n",
            "10\n",
            "[10, 30, 50]\n"
          ]
        }
      ]
    },
    {
      "cell_type": "markdown",
      "source": [
        "#### Questão 7\n",
        "Escreva um programa que pergunte em qual turno a pessoa usuária estuda (\"manhã\", \"tarde\" ou \"noite\") e exiba a mensagem \"Bom Dia!\", \"Boa Tarde!\", \"Boa Noite!\", ou \"Valor Inválido!\", conforme o caso."
      ],
      "metadata": {
        "id": "inW3F-hAHS_X"
      }
    },
    {
      "cell_type": "code",
      "source": [
        "studying_time=input('Qual seu turno de estudo? (manhã, tarde, noite)\\n')\n",
        "\n",
        "if studying_time == 'manhã':\n",
        "  print('Bom dia!')\n",
        "elif studying_time == 'tarde':\n",
        "  print('Boa tarde!')\n",
        "elif studying_time == 'noite':\n",
        "  print('Boa noite!')\n",
        "else:\n",
        "  print('Valor Inválido!')"
      ],
      "metadata": {
        "id": "-_q-Pcr_-zth",
        "colab": {
          "base_uri": "https://localhost:8080/"
        },
        "outputId": "c505017d-63cc-4d71-ebca-8ae333b3eed5"
      },
      "execution_count": null,
      "outputs": [
        {
          "output_type": "stream",
          "name": "stdout",
          "text": [
            "Qual seu turno de estudo? (manhã, tarde, noite)\n",
            "manhã\n",
            "Bom dia!\n"
          ]
        }
      ]
    },
    {
      "cell_type": "markdown",
      "source": [
        "#### Questão 8\n",
        "Escreva um programa que peça um número inteiro à pessoa usuária e determine se ele é par ou ímpar. Dica: Você pode utilizar o operador módulo `%`."
      ],
      "metadata": {
        "id": "NCCPF3QqHTw-"
      }
    },
    {
      "cell_type": "code",
      "source": [
        "number=int(input('Escreva um número\\n'))\n",
        "if number % 2 !=0:\n",
        "  print('Número ímpar')\n",
        "else:\n",
        "  print('Número par')"
      ],
      "metadata": {
        "id": "OmZJt1nQ-3e6",
        "colab": {
          "base_uri": "https://localhost:8080/"
        },
        "outputId": "b64c0a90-971b-408e-ce2e-177c5b9c35eb"
      },
      "execution_count": null,
      "outputs": [
        {
          "output_type": "stream",
          "name": "stdout",
          "text": [
            "Escreva um número\n",
            "8\n",
            "Número par\n"
          ]
        }
      ]
    },
    {
      "cell_type": "markdown",
      "source": [
        "#### Questão 9\n",
        "Escreva um programa que peça um número à pessoa usuária e informe se ele é inteiro ou decimal."
      ],
      "metadata": {
        "id": "h93Ck1tQHUwE"
      }
    },
    {
      "cell_type": "code",
      "source": [
        "number=input('Escreva um número\\n')\n",
        "if number.isdigit():\n",
        "  print('Número Inteiro')\n",
        "else:\n",
        "  print('Número Decimal')\n"
      ],
      "metadata": {
        "id": "sLMlZcx8-20N",
        "colab": {
          "base_uri": "https://localhost:8080/"
        },
        "outputId": "39847b6c-afd4-4dd0-9fa1-599db42fa4a3"
      },
      "execution_count": null,
      "outputs": [
        {
          "output_type": "stream",
          "name": "stdout",
          "text": [
            "Escreva um número\n",
            "5\n",
            "Número Inteiro\n"
          ]
        }
      ]
    },
    {
      "cell_type": "markdown",
      "source": [
        "### Momento dos projetos"
      ],
      "metadata": {
        "id": "bKdXSK1SH_pF"
      }
    },
    {
      "cell_type": "markdown",
      "source": [
        "#### Questão 10\n",
        "Um programa deve ser escrito para ler dois números e, em seguida, perguntar à pessoa usuária qual operação ele deseja realizar. O resultado da operação deve incluir informações sobre o número - se é par ou ímpar, positivo ou negativo e inteiro ou decimal."
      ],
      "metadata": {
        "id": "WBlEyyzsHV86"
      }
    },
    {
      "cell_type": "code",
      "source": [
        "num1=int(input('Insira um número diferente de zero\\n'))\n",
        "num2=int(input('Insira outro número diferente de zero\\n'))\n",
        "\n",
        "ops=int(input('Qual operação deseja realizar?\\nDigite 1 para adição;\\nDigite 2 para subtração;\\nDigite 3 para multiplicação;\\nDigite 4 para divisão.\\n'))\n",
        "if ops == 1:\n",
        "  soma = num1+num2\n",
        "  print(f'A soma de {num1} + {num2} = {soma}')\n",
        "elif ops == 2:\n",
        "  sub = num1-num2\n",
        "  print(f'A subtração de {num1} - {num2} = {sub}')\n",
        "elif ops == 3:\n",
        "  prod = num1*num2\n",
        "  print(f'A multiplicação de {num1} * {num2} = {prod}')\n",
        "elif ops == 4:\n",
        "  divi = num1/num2\n",
        "  print(f'A divisão de {num1} / {num2} = {divi}')"
      ],
      "metadata": {
        "id": "3jmahZ0f-2gq",
        "colab": {
          "base_uri": "https://localhost:8080/"
        },
        "outputId": "42b2a1fd-b678-4826-c9ce-e87f64631a7a"
      },
      "execution_count": null,
      "outputs": [
        {
          "output_type": "stream",
          "name": "stdout",
          "text": [
            "Insira um número diferente de zero\n",
            "5\n",
            "Insira outro número diferente de zero\n",
            "2\n",
            "Qual operação deseja realizar?\n",
            "Digite 1 para adição;\n",
            "Digite 2 para subtração;\n",
            "Digite 3 para multiplicação;\n",
            "Digite 4 para divisão.\n",
            "4\n",
            "A divisão de 5 / 2 = 2.5\n"
          ]
        }
      ]
    },
    {
      "cell_type": "markdown",
      "source": [
        "#### Questão 11\n",
        "Escreva um programa que peça à pessoa usuária três números que representam os lados de um triângulo. O programa deve informar se os valores podem ser utilizados para formar um triângulo e, caso afirmativo, se ele é equilátero, isósceles ou escaleno. Tenha em mente algumas dicas:\n",
        "- Três lados formam um triângulo quando a soma de quaisquer dois lados for maior que o terceiro;\n",
        "- Triângulo Equilátero: três lados iguais;\n",
        "- Triângulo Isósceles: quaisquer dois lados iguais;\n",
        "- Triângulo Escaleno: três lados diferentes;\n"
      ],
      "metadata": {
        "id": "VdnlULxHHW19"
      }
    },
    {
      "cell_type": "code",
      "source": [
        "num1=int(input('Insira um número diferente de zero para representar um lado de um triângulo\\n'))\n",
        "num2=int(input('Insira outro número diferente de zero para representar um lado de um triângulo\\n'))\n",
        "num3=int(input('Insira mais outro número diferente de zero para representar um lado de um triângulo\\n'))\n",
        "\n",
        "if num1+num2 > num3 and num1+num3 > num2 and num2+num3 > num1:\n",
        "    if num1==num2==num3:\n",
        "      print('Triângulo Equilátero')\n",
        "    elif num1==num2 or num1==num3 or num2==num3:\n",
        "      print('Triângulo Isósceles')\n",
        "    else:\n",
        "      print('Triângulo Escaleno')\n",
        "else:\n",
        "  print('Não é um triângulo')\n",
        "\n"
      ],
      "metadata": {
        "id": "0z73sqUO-2Pw",
        "colab": {
          "base_uri": "https://localhost:8080/"
        },
        "outputId": "abacf7ca-9193-46ba-dc05-db2b38e189c1"
      },
      "execution_count": null,
      "outputs": [
        {
          "output_type": "stream",
          "name": "stdout",
          "text": [
            "Insira um número diferente de zero para representar um lado de um triângulo\n",
            "5\n",
            "Insira outro número diferente de zero para representar um lado de um triângulo\n",
            "7\n",
            "Insira mais outro número diferente de zero para representar um lado de um triângulo\n",
            "10\n",
            "Triângulo Escaleno\n"
          ]
        }
      ]
    },
    {
      "cell_type": "markdown",
      "source": [
        "#### Questão 12\n",
        "Um estabelecimento está vendendo combustíveis com descontos variados. Para o etanol, se a quantidade comprada for até 15 litros, o desconto será de 2% por litro. Caso contrário, será de 4% por litro. Para o diesel, se a quantidade comprada for até 15 litros, o desconto será de 3% por litro. Caso contrário, será de 5% por litro. O preço do litro de diesel é R\\$ 2,00 e o preço do litro de etanol é R\\$ 1,70. Escreva um programa que leia a quantidade de litros vendidos e o tipo de combustível (E para etanol e D para diesel) e calcule o valor a ser pago pelo cliente. Tenha em mente algumas dicas:\n",
        "\n",
        "- O do valor do desconto será a multiplicação entre preço do litro, quantidade de litros e o valor do desconto.\n",
        "- O valor a ser pago por um cliente será o resultado da multiplicação do preço do litro pela quantidade de litros menos o valor de desconto resultante do cálculo.\n"
      ],
      "metadata": {
        "id": "_PpEpOugHXwZ"
      }
    },
    {
      "cell_type": "code",
      "source": [
        "etanol=1.70\n",
        "diesel=2.00\n",
        "\n",
        "fuel=int(input('Qual combustível quer comprar?\\nDigite 1 para ETANOL\\nDigite 2 para DIESEL\\n'))\n",
        "liters= int(input('Insira a quantidade de litros em número inteiro que deseja abastecer:\\n'))\n",
        "\n",
        "\n",
        "if fuel == 1:\n",
        "  if liters <= 15:\n",
        "    price = (liters * etanol)\n",
        "    discount = price * 0.02\n",
        "    final_price = price - discount\n",
        "    print(f'Você abasteceu R${price:.2f}\\nVocê economizou R${discount:.2f}\\nPreço Final R${final_price:.2f}')\n",
        "  elif liters > 15:\n",
        "    price = (liters * etanol)\n",
        "    discount = price * 0.04\n",
        "    final_price = price - discount\n",
        "    print(f'Você abasteceu R${price:.2f}\\nVocê economizou R${discount:.2f}\\nPreço Final R${final_price:.2f}')\n",
        "\n",
        "elif fuel == 2:\n",
        "  if liters <= 15:\n",
        "    price = (liters * etanol)\n",
        "    discount = price * 0.03\n",
        "    final_price = price - discount\n",
        "    print(f'Você abasteceu R${price:.2f}\\nVocê economizou R${discount:.2f}\\nPreço Final R${final_price:.2f}')\n",
        "  elif liters > 15:\n",
        "    price = (liters * diesel)\n",
        "    discount = price * 0.05\n",
        "    final_price = price - discount\n",
        "    print(f'Você abasteceu R${price:.2f}\\nVocê economizou R${discount:.2f}\\nPreço Final R${final_price:.2f}')\n"
      ],
      "metadata": {
        "id": "9izoF-0O-1yD",
        "colab": {
          "base_uri": "https://localhost:8080/"
        },
        "outputId": "cdf2dee3-be5a-4b60-9a3c-e22a12f8d3e2"
      },
      "execution_count": null,
      "outputs": [
        {
          "output_type": "stream",
          "name": "stdout",
          "text": [
            "Qual combustível quer comprar?\n",
            "Digite 1 para ETANOL\n",
            "Digite 2 para DIESEL\n",
            "2\n",
            "Insira a quantidade de litros em número inteiro que deseja abastecer:\n",
            "50\n",
            "Você abasteceu R$100.00\n",
            "Você economizou R$5.00\n",
            "Preço Final R$95.00\n"
          ]
        }
      ]
    },
    {
      "cell_type": "markdown",
      "source": [
        "#### Questão 13\n",
        "Em uma empresa de venda de imóveis você precisa criar um código que analise os dados de vendas anuais para ajudar a diretoria na tomada de decisão. O código precisa coletar os dados de quantidade de venda durante os anos de 2022 e 2023 e fazer um cálculo de variação percentual. A partir do valor da variação, deve ser enviada às seguintes sugestões:\n",
        "- Para variação acima de 20%: bonificação para o time de vendas.\n",
        "- Para variação entre 2% e 20%: pequena bonificação para time de vendas.\n",
        "- Para variação entre 2% e -10%: planejamento de políticas de incentivo às vendas.\n",
        "- Para bonificações abaixo de -10%: corte de gastos.\n"
      ],
      "metadata": {
        "id": "s_XS_D1WHY2R"
      }
    },
    {
      "cell_type": "code",
      "source": [
        "\n",
        "vendas_2022 = float(input(\"Digite o valor de vendas em 2022: \"))\n",
        "vendas_2023 = float(input(\"Digite o valor de vendas em 2023: \"))\n",
        "\n",
        "variacao_percentual = ((vendas_2023 - vendas_2022) / vendas_2022) * 100\n",
        "\n",
        "print(f\"Variação percentual de vendas: {variacao_percentual:.2f}%\")\n",
        "\n",
        "if variacao_percentual > 20:\n",
        "    print(\"Sugestão: Bonificação para o time de vendas.\")\n",
        "elif 2 <= variacao_percentual <= 20:\n",
        "    print(\"Sugestão: Pequena bonificação para o time de vendas.\")\n",
        "elif -10 <= variacao_percentual < 2:\n",
        "    print(\"Sugestão: Planejamento de políticas de incentivo às vendas.\")\n",
        "else:\n",
        "    print(\"Sugestão: Corte de gastos.\")"
      ],
      "metadata": {
        "id": "avQrYlUg-w8f",
        "colab": {
          "base_uri": "https://localhost:8080/"
        },
        "outputId": "3978b193-3122-4230-fd43-c062efddb7b5"
      },
      "execution_count": null,
      "outputs": [
        {
          "output_type": "stream",
          "name": "stdout",
          "text": [
            "Digite o valor de vendas em 2022: 5487.45\n",
            "Digite o valor de vendas em 2023: 6587.74\n",
            "Variação percentual de vendas: 20.05%\n",
            "Sugestão: Bonificação para o time de vendas.\n"
          ]
        }
      ]
    },
    {
      "cell_type": "markdown",
      "source": [
        "## Aula 4 - Estruturas de repetição"
      ],
      "metadata": {
        "id": "AuaWh4-d2Itt"
      }
    },
    {
      "cell_type": "markdown",
      "source": [
        "### Aquecendo na programação"
      ],
      "metadata": {
        "id": "6MSqU0sIJRdD"
      }
    },
    {
      "cell_type": "markdown",
      "source": [
        "#### Questão 1\n",
        "Escreva um programa que peça dois números inteiros e imprima todos os números inteiros entre eles."
      ],
      "metadata": {
        "id": "9eGGyCnAJRdQ"
      }
    },
    {
      "cell_type": "code",
      "source": [
        "n1= int(input('Insira um número inteiro:\\n'))\n",
        "n2= int(input('Insira um número inteiro maior que o primeiro inserido:\\n'))\n",
        "\n",
        "while n1 <= n2:\n",
        "  print(n1)\n",
        "  n1+=1\n"
      ],
      "metadata": {
        "id": "ID1oc1hxJRdQ",
        "colab": {
          "base_uri": "https://localhost:8080/"
        },
        "outputId": "8e5f39c2-f8d2-446a-99cc-3c03dacdd907"
      },
      "execution_count": null,
      "outputs": [
        {
          "output_type": "stream",
          "name": "stdout",
          "text": [
            "Insira um número inteiro:\n",
            "10\n",
            "Insira um número inteiro maior que o primeiro inserido:\n",
            "20\n",
            "10\n",
            "11\n",
            "12\n",
            "13\n",
            "14\n",
            "15\n",
            "16\n",
            "17\n",
            "18\n",
            "19\n",
            "20\n"
          ]
        }
      ]
    },
    {
      "cell_type": "markdown",
      "source": [
        "#### Questão 2\n",
        "Escreva um programa para calcular quantos dias levará para a colônia de uma bactéria A ultrapassar ou igualar a colônia de uma bactéria B, com base nas taxas de crescimento de 3% e 1,5% respectivamente. Considere que a colônia A inicia com 4 elementos e a colônia B com 10 elementos."
      ],
      "metadata": {
        "id": "mGonEHYCJRdR"
      }
    },
    {
      "cell_type": "code",
      "source": [
        "colA=4\n",
        "colB=10\n",
        "\n",
        "dias= 0\n",
        "\n",
        "while colA < colB:\n",
        "  print(f'Dias passados {dias}.\\nNúmero de elementos colônia A {colA}.\\nNúmero de elementos colônia B {colB}.')\n",
        "  colA*=1.03\n",
        "  colB*=1.015\n",
        "  dias+=1\n",
        "print(f'Levará {dias} dias para a colônia A ultrapassar ou igualar a colônia B.')"
      ],
      "metadata": {
        "id": "wM6FJuoqJRdR",
        "colab": {
          "base_uri": "https://localhost:8080/"
        },
        "outputId": "d02ffa72-9d8b-45c2-ba00-d051d4fb72fd"
      },
      "execution_count": null,
      "outputs": [
        {
          "output_type": "stream",
          "name": "stdout",
          "text": [
            "Dias passados 0.\n",
            "Número de elementos colônia A 4.\n",
            "Número de elementos colônia B 10.\n",
            "Dias passados 1.\n",
            "Número de elementos colônia A 4.12.\n",
            "Número de elementos colônia B 10.149999999999999.\n",
            "Dias passados 2.\n",
            "Número de elementos colônia A 4.2436.\n",
            "Número de elementos colônia B 10.302249999999997.\n",
            "Dias passados 3.\n",
            "Número de elementos colônia A 4.370908.\n",
            "Número de elementos colônia B 10.456783749999996.\n",
            "Dias passados 4.\n",
            "Número de elementos colônia A 4.5020352400000005.\n",
            "Número de elementos colônia B 10.613635506249995.\n",
            "Dias passados 5.\n",
            "Número de elementos colônia A 4.6370962972.\n",
            "Número de elementos colônia B 10.772840038843745.\n",
            "Dias passados 6.\n",
            "Número de elementos colônia A 4.7762091861160005.\n",
            "Número de elementos colônia B 10.934432639426399.\n",
            "Dias passados 7.\n",
            "Número de elementos colônia A 4.919495461699481.\n",
            "Número de elementos colônia B 11.098449129017794.\n",
            "Dias passados 8.\n",
            "Número de elementos colônia A 5.0670803255504655.\n",
            "Número de elementos colônia B 11.26492586595306.\n",
            "Dias passados 9.\n",
            "Número de elementos colônia A 5.21909273531698.\n",
            "Número de elementos colônia B 11.433899753942356.\n",
            "Dias passados 10.\n",
            "Número de elementos colônia A 5.375665517376489.\n",
            "Número de elementos colônia B 11.60540825025149.\n",
            "Dias passados 11.\n",
            "Número de elementos colônia A 5.536935482897784.\n",
            "Número de elementos colônia B 11.77948937400526.\n",
            "Dias passados 12.\n",
            "Número de elementos colônia A 5.703043547384717.\n",
            "Número de elementos colônia B 11.956181714615338.\n",
            "Dias passados 13.\n",
            "Número de elementos colônia A 5.874134853806259.\n",
            "Número de elementos colônia B 12.135524440334567.\n",
            "Dias passados 14.\n",
            "Número de elementos colônia A 6.050358899420448.\n",
            "Número de elementos colônia B 12.317557306939584.\n",
            "Dias passados 15.\n",
            "Número de elementos colônia A 6.231869666403061.\n",
            "Número de elementos colônia B 12.502320666543676.\n",
            "Dias passados 16.\n",
            "Número de elementos colônia A 6.418825756395154.\n",
            "Número de elementos colônia B 12.68985547654183.\n",
            "Dias passados 17.\n",
            "Número de elementos colônia A 6.611390529087008.\n",
            "Número de elementos colônia B 12.880203308689955.\n",
            "Dias passados 18.\n",
            "Número de elementos colônia A 6.809732244959618.\n",
            "Número de elementos colônia B 13.073406358320304.\n",
            "Dias passados 19.\n",
            "Número de elementos colônia A 7.014024212308407.\n",
            "Número de elementos colônia B 13.269507453695107.\n",
            "Dias passados 20.\n",
            "Número de elementos colônia A 7.22444493867766.\n",
            "Número de elementos colônia B 13.468550065500532.\n",
            "Dias passados 21.\n",
            "Número de elementos colônia A 7.4411782868379905.\n",
            "Número de elementos colônia B 13.670578316483038.\n",
            "Dias passados 22.\n",
            "Número de elementos colônia A 7.664413635443131.\n",
            "Número de elementos colônia B 13.875636991230282.\n",
            "Dias passados 23.\n",
            "Número de elementos colônia A 7.894346044506425.\n",
            "Número de elementos colônia B 14.083771546098735.\n",
            "Dias passados 24.\n",
            "Número de elementos colônia A 8.131176425841618.\n",
            "Número de elementos colônia B 14.295028119290214.\n",
            "Dias passados 25.\n",
            "Número de elementos colônia A 8.375111718616866.\n",
            "Número de elementos colônia B 14.509453541079566.\n",
            "Dias passados 26.\n",
            "Número de elementos colônia A 8.626365070175373.\n",
            "Número de elementos colônia B 14.727095344195758.\n",
            "Dias passados 27.\n",
            "Número de elementos colônia A 8.885156022280635.\n",
            "Número de elementos colônia B 14.948001774358694.\n",
            "Dias passados 28.\n",
            "Número de elementos colônia A 9.151710702949053.\n",
            "Número de elementos colônia B 15.172221800974073.\n",
            "Dias passados 29.\n",
            "Número de elementos colônia A 9.426262024037525.\n",
            "Número de elementos colônia B 15.399805127988683.\n",
            "Dias passados 30.\n",
            "Número de elementos colônia A 9.70904988475865.\n",
            "Número de elementos colônia B 15.630802204908512.\n",
            "Dias passados 31.\n",
            "Número de elementos colônia A 10.00032138130141.\n",
            "Número de elementos colônia B 15.865264237982139.\n",
            "Dias passados 32.\n",
            "Número de elementos colônia A 10.300331022740453.\n",
            "Número de elementos colônia B 16.10324320155187.\n",
            "Dias passados 33.\n",
            "Número de elementos colônia A 10.609340953422667.\n",
            "Número de elementos colônia B 16.344791849575145.\n",
            "Dias passados 34.\n",
            "Número de elementos colônia A 10.927621182025346.\n",
            "Número de elementos colônia B 16.58996372731877.\n",
            "Dias passados 35.\n",
            "Número de elementos colônia A 11.255449817486106.\n",
            "Número de elementos colônia B 16.838813183228552.\n",
            "Dias passados 36.\n",
            "Número de elementos colônia A 11.59311331201069.\n",
            "Número de elementos colônia B 17.09139538097698.\n",
            "Dias passados 37.\n",
            "Número de elementos colônia A 11.94090671137101.\n",
            "Número de elementos colônia B 17.347766311691633.\n",
            "Dias passados 38.\n",
            "Número de elementos colônia A 12.29913391271214.\n",
            "Número de elementos colônia B 17.607982806367005.\n",
            "Dias passados 39.\n",
            "Número de elementos colônia A 12.668107930093505.\n",
            "Número de elementos colônia B 17.872102548462507.\n",
            "Dias passados 40.\n",
            "Número de elementos colônia A 13.048151167996311.\n",
            "Número de elementos colônia B 18.140184086689445.\n",
            "Dias passados 41.\n",
            "Número de elementos colônia A 13.4395957030362.\n",
            "Número de elementos colônia B 18.412286847989783.\n",
            "Dias passados 42.\n",
            "Número de elementos colônia A 13.842783574127287.\n",
            "Número de elementos colônia B 18.688471150709628.\n",
            "Dias passados 43.\n",
            "Número de elementos colônia A 14.258067081351106.\n",
            "Número de elementos colônia B 18.96879821797027.\n",
            "Dias passados 44.\n",
            "Número de elementos colônia A 14.68580909379164.\n",
            "Número de elementos colônia B 19.253330191239822.\n",
            "Dias passados 45.\n",
            "Número de elementos colônia A 15.12638336660539.\n",
            "Número de elementos colônia B 19.542130144108416.\n",
            "Dias passados 46.\n",
            "Número de elementos colônia A 15.580174867603553.\n",
            "Número de elementos colônia B 19.83526209627004.\n",
            "Dias passados 47.\n",
            "Número de elementos colônia A 16.04758011363166.\n",
            "Número de elementos colônia B 20.132791027714088.\n",
            "Dias passados 48.\n",
            "Número de elementos colônia A 16.52900751704061.\n",
            "Número de elementos colônia B 20.434782893129796.\n",
            "Dias passados 49.\n",
            "Número de elementos colônia A 17.02487774255183.\n",
            "Número de elementos colônia B 20.741304636526742.\n",
            "Dias passados 50.\n",
            "Número de elementos colônia A 17.535624074828384.\n",
            "Número de elementos colônia B 21.05242420607464.\n",
            "Dias passados 51.\n",
            "Número de elementos colônia A 18.061692797073235.\n",
            "Número de elementos colônia B 21.368210569165758.\n",
            "Dias passados 52.\n",
            "Número de elementos colônia A 18.60354358098543.\n",
            "Número de elementos colônia B 21.68873372770324.\n",
            "Dias passados 53.\n",
            "Número de elementos colônia A 19.161649888414996.\n",
            "Número de elementos colônia B 22.01406473361879.\n",
            "Dias passados 54.\n",
            "Número de elementos colônia A 19.736499385067447.\n",
            "Número de elementos colônia B 22.34427570462307.\n",
            "Dias passados 55.\n",
            "Número de elementos colônia A 20.32859436661947.\n",
            "Número de elementos colônia B 22.679439840192412.\n",
            "Dias passados 56.\n",
            "Número de elementos colônia A 20.938452197618055.\n",
            "Número de elementos colônia B 23.019631437795297.\n",
            "Dias passados 57.\n",
            "Número de elementos colônia A 21.566605763546598.\n",
            "Número de elementos colônia B 23.364925909362224.\n",
            "Dias passados 58.\n",
            "Número de elementos colônia A 22.213603936452998.\n",
            "Número de elementos colônia B 23.715399798002654.\n",
            "Dias passados 59.\n",
            "Número de elementos colônia A 22.880012054546587.\n",
            "Número de elementos colônia B 24.071130794972692.\n",
            "Dias passados 60.\n",
            "Número de elementos colônia A 23.566412416182985.\n",
            "Número de elementos colônia B 24.43219775689728.\n",
            "Dias passados 61.\n",
            "Número de elementos colônia A 24.273404788668476.\n",
            "Número de elementos colônia B 24.798680723250737.\n",
            "Dias passados 62.\n",
            "Número de elementos colônia A 25.00160693232853.\n",
            "Número de elementos colônia B 25.170660934099494.\n",
            "Levará 63 dias para a colônia A ultrapassar ou igualar a colônia B.\n"
          ]
        }
      ]
    },
    {
      "cell_type": "markdown",
      "source": [
        "#### Questão 3\n",
        "Para tratar uma quantidade de 15 dados de avaliações de pessoas usuárias de um serviço da empresa, precisamos verificar se as notas são válidas. Então, escreva um programa que vai receber a nota de 0 a 5 de todos os dados e verificar se é um valor válido. Caso seja inserido uma nota acima de 5 ou abaixo de 0, repita até que a pessoa usuária insira um valor válido."
      ],
      "metadata": {
        "id": "UiOZRlqoJRdR"
      }
    },
    {
      "cell_type": "code",
      "source": [
        "notas=[]\n",
        "\n",
        "\n",
        "for _ in range(15):\n",
        "  while True:\n",
        "    nota=int(input('Insira a nota da avaliação (0 a 5):\\n'))\n",
        "\n",
        "    if 0<= nota <=5:\n",
        "      notas.append(nota)\n",
        "      break\n",
        "    else:\n",
        "      print('Nota inválida! Insira valores entre 0 e 5.')\n"
      ],
      "metadata": {
        "id": "3TUAhCxcJRdR",
        "colab": {
          "base_uri": "https://localhost:8080/"
        },
        "outputId": "358ca9a9-9a5d-43ff-93f2-92b738b6f456"
      },
      "execution_count": null,
      "outputs": [
        {
          "name": "stdout",
          "output_type": "stream",
          "text": [
            "Insira a nota da avaliação (0 a 5):\n",
            "5\n",
            "Insira a nota da avaliação (0 a 5):\n",
            "7\n",
            "Nota inválida! Insira valores entre 0 e 5.\n",
            "Insira a nota da avaliação (0 a 5):\n",
            "4\n",
            "Insira a nota da avaliação (0 a 5):\n",
            "3\n"
          ]
        }
      ]
    },
    {
      "cell_type": "markdown",
      "source": [
        "#### Questão 4\n",
        "Desenvolva um programa que leia um conjunto indeterminado de temperaturas em Celsius e faça uma análise. Portanto, escreva um programa que leia temperaturas e informe a média delas. A leitura deve ser encerrada ao ser enviado o valor -273°C."
      ],
      "metadata": {
        "id": "ABv3KObGJRdR"
      }
    },
    {
      "cell_type": "code",
      "source": [
        "temperatures=[]\n",
        "\n",
        "while True:\n",
        "  addTemp=int(input('Adicionar temperatura (1 para sim e 2 para não):\\n'))\n",
        "\n",
        "  if addTemp == 1:\n",
        "    temp=float(input('Insira uma temperatura em Celcius '))\n",
        "    temperatures.append(temp)\n",
        "  elif addTemp == 2:\n",
        "    if not temperatures:\n",
        "      print('Nenhuma temperatura foi adicionada')\n",
        "    else:\n",
        "      tempAverage=sum(temperatures)/len(temperatures)\n",
        "      print(f'A média das temperaturas é: {tempAverage:.2f}°C')\n",
        "    break\n",
        "  else:\n",
        "        print('Opção inválida. Use 1 para adicionar temperatura ou 2 para encerrar.')\n",
        "\n"
      ],
      "metadata": {
        "id": "85tBBj5KJRdS",
        "colab": {
          "base_uri": "https://localhost:8080/"
        },
        "outputId": "5caedccf-a961-405f-8bcd-d1076fe50988"
      },
      "execution_count": null,
      "outputs": [
        {
          "output_type": "stream",
          "name": "stdout",
          "text": [
            "Adicionar temperatura (1 para sim e 2 para não):\n",
            "1\n",
            "Insira uma temperatura em Celcius 40\n",
            "Adicionar temperatura (1 para sim e 2 para não):\n",
            "35\n",
            "Opção inválida. Use 1 para adicionar temperatura ou 2 para encerrar.\n",
            "Adicionar temperatura (1 para sim e 2 para não):\n",
            "1\n",
            "Insira uma temperatura em Celcius 35\n",
            "Adicionar temperatura (1 para sim e 2 para não):\n",
            "2\n",
            "A média das temperaturas é: 37.50°C\n"
          ]
        }
      ]
    },
    {
      "cell_type": "markdown",
      "source": [
        "#### Questão 5\n",
        "Escreva um programa que calcule o fatorial de um número inteiro fornecido pela pessoa usuária. O fatorial de um número inteiro é a multiplicação desse número por todos os seus antecessores até o número 1. Por exemplo, o fatorial de 5 é 5 x 4 x 3 x 2 x 1 = 120."
      ],
      "metadata": {
        "id": "IjkbAfGcJRdS"
      }
    },
    {
      "cell_type": "code",
      "source": [
        "import math\n",
        "\n",
        "numb=int(input('Insira um número inteiro:\\n'))\n",
        "\n",
        "factorial_numb=math.factorial(numb)\n",
        "\n",
        "print(f'O fatorial de {numb} é {factorial_numb}')"
      ],
      "metadata": {
        "id": "7RTH8o0HJRdS",
        "colab": {
          "base_uri": "https://localhost:8080/"
        },
        "outputId": "8ae92f0c-1156-473c-cd0f-20f376e98d41"
      },
      "execution_count": null,
      "outputs": [
        {
          "output_type": "stream",
          "name": "stdout",
          "text": [
            "Insira um número inteiro:\n",
            "5\n",
            "O fatorial de 5 é 120\n"
          ]
        }
      ]
    },
    {
      "cell_type": "markdown",
      "source": [
        "### Momento dos projetos"
      ],
      "metadata": {
        "id": "oGNKuQjsJRdT"
      }
    },
    {
      "cell_type": "markdown",
      "source": [
        "#### Questão 6\n",
        "Escreva um programa que gere a tabuada de um número inteiro de 1 a 10, de acordo com a escolha da pessoa usuária. Como exemplo, para o número 2, a tabuada deve ser mostrada no seguinte formato:\n",
        "```\n",
        "Tabuada do 2:\n",
        "2 x 1 = 2\n",
        "2 x 2 = 4\n",
        "[...]\n",
        "2 x 10 = 20\n",
        "```"
      ],
      "metadata": {
        "id": "ODxaTUYmJRdS"
      }
    },
    {
      "cell_type": "code",
      "source": [
        "multiplicando=int(input('TABUADA\\nInsira um número interiro de 1 a 10: '))\n",
        "\n",
        "if 1 <= multiplicando <= 10:\n",
        "  print(f'Tabuada do {multiplicando}:')\n",
        "  for multiplicador in range(1, 11): #o multiplicador não precisa existir previamente, é criado no loop for\n",
        "    resultado=multiplicando * multiplicador\n",
        "    print(f'{multiplicando} x {multiplicador} = {resultado}')\n",
        "else:\n",
        "    print('Por favor, insira um número inteiro de 1 a 10.')\n"
      ],
      "metadata": {
        "id": "lkTlbxPIJRdS",
        "colab": {
          "base_uri": "https://localhost:8080/"
        },
        "outputId": "a94a875e-6b7d-4088-acdf-3edf4875dc03"
      },
      "execution_count": null,
      "outputs": [
        {
          "output_type": "stream",
          "name": "stdout",
          "text": [
            "TABUADA\n",
            "Insira um número interiro de 1 a 10: 7\n",
            "Tabuada do 7:\n",
            "7 x 1 = 7\n",
            "7 x 2 = 14\n",
            "7 x 3 = 21\n",
            "7 x 4 = 28\n",
            "7 x 5 = 35\n",
            "7 x 6 = 42\n",
            "7 x 7 = 49\n",
            "7 x 8 = 56\n",
            "7 x 9 = 63\n",
            "7 x 10 = 70\n"
          ]
        }
      ]
    },
    {
      "cell_type": "markdown",
      "source": [
        "#### Questão 7\n",
        "Os números primos possuem várias aplicações dentro da Ciência de Dados, por exemplo, na criptografia e segurança. Um número primo é aquele que é divisível apenas por um e por ele mesmo. Faça um programa que peça um número inteiro e determine se ele é ou não um número primo."
      ],
      "metadata": {
        "id": "LeIbnt8VJRdS"
      }
    },
    {
      "cell_type": "code",
      "source": [
        "numb=int(input('Insira um número que queira saber se é primo: '))\n",
        "if numb <=1:\n",
        "   print(f'{numb} não é um número primo')\n",
        "else:\n",
        "  is_prime = True\n",
        "\n",
        "  for i in range(2, numb):\n",
        "    if numb % i == 0:\n",
        "      is_prime = False #caso haja divisor não é primo\n",
        "      break\n",
        "\n",
        "  if is_prime:\n",
        "   print(f'{numb} é um número primo')\n",
        "  else:\n",
        "    print(f'{numb} não é um número primo')"
      ],
      "metadata": {
        "id": "2rcNU7twJRdS",
        "colab": {
          "base_uri": "https://localhost:8080/"
        },
        "outputId": "c852e947-6a10-4194-823c-7caa5c5973b4"
      },
      "execution_count": null,
      "outputs": [
        {
          "output_type": "stream",
          "name": "stdout",
          "text": [
            "Insira um número que queira saber se é primo: 10\n",
            "10 não é um número primo\n"
          ]
        }
      ]
    },
    {
      "cell_type": "markdown",
      "source": [
        "#### Questão 8\n",
        "Vamos entender a distribuição de idades de pensionistas de uma empresa de previdência. Escreva um programa que leia as idades de uma quantidade não informada de clientes e mostre a distribuição em intervalos de [0-25], [26-50], [51-75] e [76-100]. Encerre a entrada de dados com um número negativo."
      ],
      "metadata": {
        "id": "QTwb6QaCJRdT"
      }
    },
    {
      "cell_type": "code",
      "source": [
        "# Inicialize contadores para cada faixa etária\n",
        "faixa_0_25 = 0\n",
        "faixa_26_50 = 0\n",
        "faixa_51_75 = 0\n",
        "faixa_76_100 = 0\n",
        "\n",
        "# Solicita ao usuário que insira as idades e calcula a distribuição\n",
        "while True:\n",
        "    idade = int(input(\"Insira a idade do cliente (ou um número negativo para encerrar): \"))\n",
        "\n",
        "    if idade < 0:\n",
        "        break\n",
        "\n",
        "    if idade >= 0 and idade <= 25:\n",
        "        faixa_0_25 += 1\n",
        "    elif idade >= 26 and idade <= 50:\n",
        "        faixa_26_50 += 1\n",
        "    elif idade >= 51 and idade <= 75:\n",
        "        faixa_51_75 += 1\n",
        "    elif idade >= 76 and idade <= 100:\n",
        "        faixa_76_100 += 1\n",
        "\n",
        "# Exibe a distribuição de idades\n",
        "print(\"Distribuição de idades:\")\n",
        "print(\"[0-25]:\", faixa_0_25)\n",
        "print(\"[26-50]:\", faixa_26_50)\n",
        "print(\"[51-75]:\", faixa_51_75)\n",
        "print(\"[76-100]:\", faixa_76_100)"
      ],
      "metadata": {
        "id": "4IAhaDmYJRdT",
        "colab": {
          "base_uri": "https://localhost:8080/"
        },
        "outputId": "c3a1d249-1ec5-4c86-9ce8-fd303fa81ddb"
      },
      "execution_count": null,
      "outputs": [
        {
          "output_type": "stream",
          "name": "stdout",
          "text": [
            "Insira a idade do cliente (ou um número negativo para encerrar): 25\n",
            "Insira a idade do cliente (ou um número negativo para encerrar): 38\n",
            "Insira a idade do cliente (ou um número negativo para encerrar): 90\n",
            "Insira a idade do cliente (ou um número negativo para encerrar): 45\n",
            "Insira a idade do cliente (ou um número negativo para encerrar): 74\n",
            "Insira a idade do cliente (ou um número negativo para encerrar): 8\n",
            "Insira a idade do cliente (ou um número negativo para encerrar): 65\n",
            "Insira a idade do cliente (ou um número negativo para encerrar): 10\n",
            "Insira a idade do cliente (ou um número negativo para encerrar): -1\n",
            "Distribuição de idades:\n",
            "[0-25]: 3\n",
            "[26-50]: 2\n",
            "[51-75]: 2\n",
            "[76-100]: 1\n"
          ]
        }
      ]
    },
    {
      "cell_type": "markdown",
      "source": [
        "#### Questão 9\n",
        "Em uma eleição para gerência em uma empresa com 20 funcionários, existem quatro candidatos. Escreva um programa que calcule o vencedor da eleição. A votação ocorreu da seguinte maneira:\n",
        "- Cada funcionário votou em um dos quatro candidatos (representados pelos números 1, 2, 3 e 4).\n",
        "- Também foram contabilizados os votos nulos (representado pelo número 5) e os votos em branco (representado pelo número 6).\n",
        "\n",
        "Ao final da votação, o programa deve exibir o total de votos para cada candidato, o número de votos nulos e o número de votos em branco. Além disso, deve calcular e exibir a porcentagem de votos nulos em relação ao total de votos e a porcentagem de votos em branco em relação ao total de votos."
      ],
      "metadata": {
        "id": "soJCQVwRJRdT"
      }
    },
    {
      "cell_type": "code",
      "source": [
        "# Inicializamos as variáveis contadoras\n",
        "votos_candidato1 = 0\n",
        "votos_candidato2 = 0\n",
        "votos_candidato3 = 0\n",
        "votos_candidato4 = 0\n",
        "votos_nulos = 0\n",
        "votos_branco = 0\n",
        "\n",
        "# Início do laço para ler os votos\n",
        "for i in range(0,20):\n",
        "    voto = int(input('Informe seu voto: '))\n",
        "    if voto == 1:\n",
        "        votos_candidato1 += 1\n",
        "    elif voto == 2:\n",
        "        votos_candidato2 += 1\n",
        "    elif voto == 3:\n",
        "        votos_candidato3 += 1\n",
        "    elif voto == 4:\n",
        "        votos_candidato4 += 1\n",
        "    elif voto == 5:\n",
        "        votos_nulos += 1\n",
        "    elif voto == 6:\n",
        "        votos_branco += 1\n",
        "    else:\n",
        "        print(\"Voto inválido.\")\n",
        "\n",
        "print(f'Votos candidato 1: {votos_candidato1}')\n",
        "print(f'Votos candidato 2: {votos_candidato2}')\n",
        "print(f'Votos candidato 3: {votos_candidato3}')\n",
        "print(f'Votos candidato 4: {votos_candidato4}')\n",
        "print(f'Votos nulos: {votos_nulos}')\n",
        "print(f'Votos em branco: {votos_branco}')\n",
        "print(f'Percentual de votos nulos: {(votos_nulos / 20 * 100)}')\n",
        "print(f'Percentual de votos em branco: {(votos_branco / 20 * 100)}')\n"
      ],
      "metadata": {
        "id": "041EFrgG-4gR"
      },
      "execution_count": null,
      "outputs": []
    },
    {
      "cell_type": "markdown",
      "source": [
        "## Aula 5 - Estruturas de dados"
      ],
      "metadata": {
        "id": "eijHQiNU2IZ7"
      }
    },
    {
      "cell_type": "markdown",
      "source": [
        "### Aquecendo na programação"
      ],
      "metadata": {
        "id": "92F0bKtBMgd7"
      }
    },
    {
      "cell_type": "markdown",
      "source": [
        "#### Questão 1\n",
        "Faça um programa que tenha a seguinte lista contendo os valores de gastos de uma empresa de papel `[2172.54, 3701.35, 3518.09, 3456.61, 3249.38, 2840.82, 3891.45, 3075.26, 2317.64, 3219.08]`. Com esses valores, faça um programa que calcule a média de gastos. Dica, use as funções built-in [`sum()`](https://docs.python.org/3/library/functions.html#sum) e [`len()`](https://docs.python.org/3/library/functions.html#len)."
      ],
      "metadata": {
        "id": "IypX2ANuMgeC"
      }
    },
    {
      "cell_type": "code",
      "source": [
        "gastos=[2172.54, 3701.35, 3518.09, 3456.61, 3249.38, 2840.82, 3891.45, 3075.26, 2317.64, 3219.08]\n",
        "\n",
        "media=sum(gastos)/len(gastos)\n",
        "print(f'{media:.2f}')"
      ],
      "metadata": {
        "id": "ge3LuFhLMgeD",
        "colab": {
          "base_uri": "https://localhost:8080/"
        },
        "outputId": "09b2eeff-6e24-4c89-df0c-0ebe8a3f64fd"
      },
      "execution_count": null,
      "outputs": [
        {
          "output_type": "stream",
          "name": "stdout",
          "text": [
            "3144.22\n"
          ]
        }
      ]
    },
    {
      "cell_type": "markdown",
      "source": [
        "#### Questão 2\n",
        " Com os mesmos dados da questão anterior, defina quantas compras foram acima de 3000 reais e calcule a porcentagem quanto ao total de compras."
      ],
      "metadata": {
        "id": "xrOeLhQkMgeD"
      }
    },
    {
      "cell_type": "code",
      "source": [
        "gastos=[2172.54, 3701.35, 3518.09, 3456.61, 3249.38, 2840.82, 3891.45, 3075.26, 2317.64, 3219.08]\n",
        "\n",
        "contador_acima_3k= 0\n",
        "\n",
        "for i in gastos:\n",
        "  if i >= 3000:\n",
        "    contador_acima_3k +=1\n",
        "\n",
        "porcentagem_acima_3k= 100*contador_acima_3k/len(gastos)\n",
        "\n",
        "print(f'{contador_acima_3k} compras foram acima de R$ 3000,00 reais. ')\n",
        "print(f'{porcentagem_acima_3k}% dos gastos foram acima de R$ 3000,00 reais. ')\n"
      ],
      "metadata": {
        "id": "Ygu5TMZyMgeD",
        "colab": {
          "base_uri": "https://localhost:8080/"
        },
        "outputId": "4a157df9-1c87-44a8-92f9-d822f2f21b81"
      },
      "execution_count": null,
      "outputs": [
        {
          "output_type": "stream",
          "name": "stdout",
          "text": [
            "7 compras foram acima de R$ 3000,00 reais. \n",
            "70.0% dos gastos foram acima de R$ 3000,00 reais. \n"
          ]
        }
      ]
    },
    {
      "cell_type": "markdown",
      "source": [
        "#### Questão 3\n",
        "Faça um código que colete em uma lista 5 números inteiros quaisquer e imprima a lista. Exemplo: `[1,4,7,2,4]`."
      ],
      "metadata": {
        "id": "JgCOrE_BMgeD"
      }
    },
    {
      "cell_type": "code",
      "source": [
        "five_number=[]\n",
        "\n",
        "for _ in range(5):\n",
        "  new_number=int(input('Insira um número: '))\n",
        "  five_number.append(new_number)\n",
        "\n",
        "print(five_number)\n"
      ],
      "metadata": {
        "id": "vtM9O1hLMgeD",
        "colab": {
          "base_uri": "https://localhost:8080/"
        },
        "outputId": "61edfb42-d046-40bc-e564-d21888535257"
      },
      "execution_count": null,
      "outputs": [
        {
          "output_type": "stream",
          "name": "stdout",
          "text": [
            "Insira um número: 5\n",
            "Insira um número: 1\n",
            "Insira um número: 45\n",
            "Insira um número: 8\n",
            "Insira um número: 7\n",
            "[5, 1, 45, 8, 7]\n"
          ]
        }
      ]
    },
    {
      "cell_type": "markdown",
      "source": [
        "#### Questão 4\n",
        "Colete novamente 5 inteiros e imprima a lista em ordem inversa à enviada."
      ],
      "metadata": {
        "id": "p3bTp88HMgeD"
      }
    },
    {
      "cell_type": "code",
      "source": [
        "five_number=[]\n",
        "\n",
        "for _ in range(5):\n",
        "  new_number=int(input('Insira um número: '))\n",
        "  five_number.append(new_number)\n",
        "five_number.reverse()\n",
        "print(five_number)"
      ],
      "metadata": {
        "id": "-CGwMIyHMgeD",
        "colab": {
          "base_uri": "https://localhost:8080/"
        },
        "outputId": "c53f3864-d927-43df-d136-fd8b4fb3e54e"
      },
      "execution_count": null,
      "outputs": [
        {
          "output_type": "stream",
          "name": "stdout",
          "text": [
            "Insira um número: 1\n",
            "Insira um número: 2\n",
            "Insira um número: 3\n",
            "Insira um número: 4\n",
            "Insira um número: 5\n",
            "[5, 4, 3, 2, 1]\n"
          ]
        }
      ]
    },
    {
      "cell_type": "markdown",
      "source": [
        "#### Questão 5\n",
        "Faça um programa que, ao inserir um número qualquer, criará uma lista contendo todos os números primos entre 1 e o número digitado."
      ],
      "metadata": {
        "id": "eIXd_z1lMgeD"
      }
    },
    {
      "cell_type": "code",
      "source": [
        "numb=int(input('Insira um número que queira saber se é primo: '))\n",
        "\n",
        "prime_list=[]\n",
        "\n",
        "for i in range(2, numb):\n",
        "  prime = True\n",
        "\n",
        "  for div_trial in range (2, i):\n",
        "    if i % div_trial == 0:\n",
        "      prime = False #caso haja divisor não é primo\n",
        "      break\n",
        "\n",
        "  if prime:\n",
        "    prime_list.append(i)\n",
        "print(f'Lista de números primos {prime_list}')\n"
      ],
      "metadata": {
        "id": "rj_6GHstMgeE",
        "colab": {
          "base_uri": "https://localhost:8080/"
        },
        "outputId": "b8dc1586-102c-4ede-df6e-c0862225de4b"
      },
      "execution_count": null,
      "outputs": [
        {
          "output_type": "stream",
          "name": "stdout",
          "text": [
            "Insira um número que queira saber se é primo: 20\n",
            "Lista de números primos [2, 3, 5, 7, 11, 13, 17, 19]\n"
          ]
        }
      ]
    },
    {
      "cell_type": "markdown",
      "source": [
        "#### Questão 6\n",
        "Escreva um programa que peça uma data informando o dia, mês e ano e determine se ela é uma data válida para uma análise."
      ],
      "metadata": {
        "id": "zrbz3ENlMgeE"
      }
    },
    {
      "cell_type": "code",
      "source": [],
      "metadata": {
        "id": "0eYA8UjTMgeE"
      },
      "execution_count": null,
      "outputs": []
    },
    {
      "cell_type": "markdown",
      "source": [
        "### Momento dos projetos"
      ],
      "metadata": {
        "id": "ut_4VHdGMgeE"
      }
    },
    {
      "cell_type": "markdown",
      "source": [
        "#### Questão 7\n",
        "Para um estudo envolvendo o nível de multiplicação de bactérias em uma colônia, foi coletado o número de bactérias multiplicadas por dia, com base em um processo de duplicação diária e pode ser observado a seguir: `[1.2, 2.1, 3.3, 5.0, 7.8, 11.3, 16.6, 25.1, 37.8, 56.9]`. Tendo esses valores, faça um código que gere uma lista contendo o percentual de crescimento de bactérias por dia, comparando o número de bactérias em cada dia com o número de bactérias do dia anterior. Dica: para calcular o percentual de crescimento usamos a seguinte equação: `100 * (amostra_atual - amostra_passada) / (amostra_passada)`."
      ],
      "metadata": {
        "id": "G86Z0vD_MgeE"
      }
    },
    {
      "cell_type": "code",
      "source": [],
      "metadata": {
        "id": "PXNO_CFkMgeE"
      },
      "execution_count": null,
      "outputs": []
    },
    {
      "cell_type": "markdown",
      "source": [
        "#### Questão 8\n",
        "Para uma seleção de produtos alimentícios, precisamos separar o conjunto de IDs dados por números inteiros, sabendo que os produtos com ID par são doces e os com ID ímpar são amargos. Monte um código que colete 10 IDs. Depois, calcule e mostre a quantidade de produtos doces e amargos."
      ],
      "metadata": {
        "id": "p4nxogpnMgeE"
      }
    },
    {
      "cell_type": "code",
      "source": [],
      "metadata": {
        "id": "WqjO2SZkMgeE"
      },
      "execution_count": null,
      "outputs": []
    },
    {
      "cell_type": "markdown",
      "source": [
        "#### Questão 9\n",
        "Desenvolva um programa que informa a nota de um aluno de acordo com suas respostas. Ele deve pedir a resposta de um aluno para cada questão e é preciso verificar se a resposta foi igual ao gabarito. Cada questão vale um ponto e existem alternativas:  A, B, C ou D.\n",
        "```\n",
        "Gabarito da Prova:\n",
        "01 - D\n",
        "02 - A\n",
        "03 - C\n",
        "04 - B\n",
        "05 - A\n",
        "06 - D\n",
        "07 - C\n",
        "08 - C\n",
        "09 - A\n",
        "10 - B\n",
        "```"
      ],
      "metadata": {
        "id": "t5OrLxV6MgeE"
      }
    },
    {
      "cell_type": "code",
      "source": [],
      "metadata": {
        "id": "ytIQDJrQMgeE"
      },
      "execution_count": null,
      "outputs": []
    },
    {
      "cell_type": "markdown",
      "source": [
        "#### Questão 10\n",
        "Um instituto de meteorologia deseja fazer um estudo de temperatura média de cada mês do ano. Para isso, você precisa fazer um código que colete e armazene essas temperaturas médias em uma lista. Depois, calcule a média anual das temperaturas e mostre todas as temperaturas acima da média anual, e em que mês elas ocorreram, mostrando os meses por extenso: Janeiro, Fevereiro, etc."
      ],
      "metadata": {
        "id": "aSBMzh-AMgeF"
      }
    },
    {
      "cell_type": "code",
      "source": [],
      "metadata": {
        "id": "ftj04s2uMgeF"
      },
      "execution_count": null,
      "outputs": []
    },
    {
      "cell_type": "markdown",
      "source": [
        "#### Questão 11\n",
        "Uma empresa de e-commerce está interessada em analisar as vendas dos seus produtos. Os dados das vendas foram armazenados em um dicionário:\n",
        "```\n",
        "{'Produto A': 300, 'Produto B': 80, 'Produto C': 60,\n",
        " 'Produto D': 200, 'Produto E': 250, 'Produto F': 30}\n",
        "```\n",
        "Escreva um código que calcule o total de vendas e o produto mais vendido."
      ],
      "metadata": {
        "id": "0X8S6s4jMgeF"
      }
    },
    {
      "cell_type": "code",
      "source": [],
      "metadata": {
        "id": "Xa3DJLtFMgeF"
      },
      "execution_count": null,
      "outputs": []
    },
    {
      "cell_type": "markdown",
      "source": [
        "#### Questão 12\n",
        "Uma pesquisa de mercado foi feita para decidir qual design de uma marca infantil mais agrada crianças. A pesquisa foi feita e o votos computados podem ser observados abaixo:\n",
        "```\n",
        "'''\n",
        "Tabela de votos da marca\n",
        "Design 1 - 1334 votos\n",
        "Design 2 - 982 votos\n",
        "Design 3 - 1751 votos\n",
        "Design 4 - 210 votos\n",
        "Design 5 - 1811 votos\n",
        "'''\n",
        "```\n",
        "Adapte os dados fornecidos a você para uma estrutura de dicionário e a partir dele, informe o design vencedor e a porcentagem de votos recebidos.\n"
      ],
      "metadata": {
        "id": "nrEwf_1ZMgeF"
      }
    },
    {
      "cell_type": "code",
      "source": [],
      "metadata": {
        "id": "MRPcGR-_MgeF"
      },
      "execution_count": null,
      "outputs": []
    },
    {
      "cell_type": "markdown",
      "source": [
        "#### Questão 13\n",
        "Os funcionários de um setor da empresa que você trabalha vão receber um abono correspondente a 10% do seu salário devido ao ótimo desempenho do time. O setor financeiro solicitou sua ajuda para a verificação das consequências financeiras que esse abono irá gerar nos recursos. Assim, foi encaminhada para você uma lista com os salários que receberão o abono: `[1172, 1644, 2617, 5130, 5532, 6341, 6650, 7238, 7685, 7782, 7903]`. O abono de cada funcionário não pode ser inferior a 200. Em código, transforme cada um dos salários em chaves de um dicionário e o abono de cada salário no elemento. Depois, informe o total de gastos com o abono, quantos funcionários receberam o abono mínimo e qual o maior valor de abono fornecido.\n"
      ],
      "metadata": {
        "id": "HRTFFzKIMgeF"
      }
    },
    {
      "cell_type": "code",
      "source": [],
      "metadata": {
        "id": "QsDSCua42bLB"
      },
      "execution_count": null,
      "outputs": []
    },
    {
      "cell_type": "markdown",
      "source": [
        "#### Questão 14\n",
        "Uma equipe de cientistas de dados está estudando a diversidade biológica em uma floresta. A equipe fez a coleta de informações sobre o número de espécies de plantas e animais em cada área da floresta e armazenaram essas informações em um dicionário. Nele, a chave descreve a área dos dados e os valores nas listas correspondem às espécies de plantas e animais nas áreas, respectivamente.\n",
        "```\n",
        "{'Área Norte': [2819, 7236],\n",
        " 'Área Leste': [1440, 9492],\n",
        " 'Área Sul': [5969, 7496],\n",
        " 'Área Oeste': [14446, 49688],\n",
        " 'Área Centro': [22558, 45148]}\n",
        "```\n",
        "Escreva um código para calcular a média de espécies por área e identificar a área com a maior diversidade biológica. Dica: use as funções built-in [`sum()`](https://docs.python.org/3/library/functions.html#sum) e [`len()`](https://docs.python.org/3/library/functions.html#len).\n"
      ],
      "metadata": {
        "id": "6dEXZEwjMlWy"
      }
    },
    {
      "cell_type": "code",
      "source": [],
      "metadata": {
        "id": "eQnOUDfYMlWy"
      },
      "execution_count": null,
      "outputs": []
    },
    {
      "cell_type": "markdown",
      "source": [
        "#### Questão 15\n",
        "O setor de RH da sua empresa te pediu uma ajuda para analisar as idades dos funcionários de 4 setores da empresa. Para isso, ele te forneceu os seguintes dados:\n",
        "```\n",
        "{'Setor A': [22, 26, 30, 30, 35, 38, 40, 56, 57, 65],\n",
        " 'Setor B': [22, 24, 26, 33, 41, 49, 50, 54, 60, 64],\n",
        " 'Setor C': [23, 26, 26, 29, 34, 35, 36, 41, 52, 56],\n",
        " 'Setor D': [19, 20, 25, 27, 34, 39, 42, 44, 50, 65]}\n",
        "```\n",
        "Sabendo que cada setor tem 10 funcionários, construa um código que calcule a média de idade de cada setor, a idade média geral entre todos os setores e quantas pessoas estão acima da idade média geral.\n"
      ],
      "metadata": {
        "id": "r0RW2Sy_MlWy"
      }
    },
    {
      "cell_type": "code",
      "source": [],
      "metadata": {
        "id": "wCiwyKP3MmTz"
      },
      "execution_count": null,
      "outputs": []
    }
  ]
}